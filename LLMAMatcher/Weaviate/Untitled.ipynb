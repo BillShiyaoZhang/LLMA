{
 "cells": [
  {
   "cell_type": "markdown",
   "id": "091ca877-cd3c-4af0-8a07-243081745a99",
   "metadata": {},
   "source": [
    "https://weaviate.io/developers/weaviate/quickstart/local"
   ]
  },
  {
   "cell_type": "code",
   "execution_count": 1,
   "id": "318fd3a4-1b83-4b2b-a977-7dc6d4462bd7",
   "metadata": {},
   "outputs": [
    {
     "name": "stdout",
     "output_type": "stream",
     "text": [
      "True\n"
     ]
    }
   ],
   "source": [
    "import weaviate\n",
    "\n",
    "client = weaviate.connect_to_local()\n",
    "\n",
    "print(client.is_ready())  # Should print: `True`\n",
    "\n",
    "client.close()  # Free up resources"
   ]
  },
  {
   "cell_type": "code",
   "execution_count": 2,
   "id": "3a699e78-8475-4cc5-86be-fac874438f16",
   "metadata": {},
   "outputs": [],
   "source": [
    "# import weaviate\n",
    "# from weaviate.classes.config import Configure\n",
    "\n",
    "# client = weaviate.connect_to_local()\n",
    "\n",
    "# questions = client.collections.create(\n",
    "#     name=\"Question\",\n",
    "#     vectorizer_config=Configure.Vectorizer.text2vec_ollama(     # Configure the Ollama embedding integration\n",
    "#         api_endpoint=\"http://host.docker.internal:11434\",       # Allow Weaviate from within a Docker container to contact your Ollama instance\n",
    "#         model=\"nomic-embed-text\",                               # The model to use\n",
    "#     ),\n",
    "#     generative_config=Configure.Generative.ollama(              # Configure the Ollama generative integration\n",
    "#         api_endpoint=\"http://host.docker.internal:11434\",       # Allow Weaviate from within a Docker container to contact your Ollama instance\n",
    "#         model=\"qwen2.5:32b-instruct\",                          # The model to use\n",
    "#     )\n",
    "# )\n",
    "\n",
    "# client.close()  # Free up resources"
   ]
  },
  {
   "cell_type": "code",
   "execution_count": 3,
   "id": "e7d2a610-3f73-464c-b273-a018a8dfc317",
   "metadata": {},
   "outputs": [],
   "source": [
    "# import weaviate\n",
    "# import requests, json\n",
    "\n",
    "# client = weaviate.connect_to_local()\n",
    "\n",
    "# resp = requests.get(\n",
    "#     \"https://raw.githubusercontent.com/weaviate-tutorials/quickstart/main/data/jeopardy_tiny.json\"\n",
    "# )\n",
    "# data = json.loads(resp.text)\n",
    "\n",
    "# questions = client.collections.get(\"Question\")\n",
    "\n",
    "# with questions.batch.dynamic() as batch:\n",
    "#     for d in data:\n",
    "#         batch.add_object({\n",
    "#             \"answer\": d[\"Answer\"],\n",
    "#             \"question\": d[\"Question\"],\n",
    "#             \"category\": d[\"Category\"],\n",
    "#         })\n",
    "\n",
    "# client.close()  # Free up resources"
   ]
  },
  {
   "cell_type": "code",
   "execution_count": 4,
   "id": "be437f83-53dd-4ebb-a6aa-75cbf7b65053",
   "metadata": {},
   "outputs": [],
   "source": [
    "# import weaviate\n",
    "# import json\n",
    "\n",
    "# client = weaviate.connect_to_local()\n",
    "\n",
    "# questions = client.collections.get(\"Question\")\n",
    "\n",
    "# response = questions.query.near_text(\n",
    "#     query=\"biology\",\n",
    "#     limit=2\n",
    "# )\n",
    "\n",
    "# for obj in response.objects:\n",
    "#     print(json.dumps(obj.properties, indent=2))\n",
    "\n",
    "# client.close()  # Free up resources"
   ]
  },
  {
   "cell_type": "code",
   "execution_count": 5,
   "id": "8ff431b2-9a8f-4b01-9eb3-e69e40b65096",
   "metadata": {},
   "outputs": [],
   "source": [
    "# import weaviate\n",
    "\n",
    "# client = weaviate.connect_to_local()\n",
    "\n",
    "# questions = client.collections.get(\"Question\")\n",
    "\n",
    "# response = questions.generate.near_text(\n",
    "#     query=\"biology\",\n",
    "#     limit=2,\n",
    "#     grouped_task=\"Write a tweet with emojis about these facts.\"\n",
    "# )\n",
    "\n",
    "# print(response.generated)  # Inspect the generated text\n",
    "\n",
    "# client.close()  # Free up resources"
   ]
  },
  {
   "cell_type": "code",
   "execution_count": 6,
   "id": "7717b551-80e9-4111-8f76-b1825bf2eb69",
   "metadata": {},
   "outputs": [],
   "source": [
    "# client = weaviate.connect_to_local()\n",
    "# client.collections.delete(\"Question\")\n",
    "# client.close()  # Free up resources"
   ]
  },
  {
   "cell_type": "code",
   "execution_count": null,
   "id": "0100f5af-a054-4538-a895-0845e3e81227",
   "metadata": {},
   "outputs": [],
   "source": []
  },
  {
   "cell_type": "code",
   "execution_count": null,
   "id": "d5a759d4-4c4d-4819-abfa-bc718a744675",
   "metadata": {},
   "outputs": [],
   "source": []
  },
  {
   "cell_type": "code",
   "execution_count": null,
   "id": "c29abc1b-dfa3-419d-ad17-5460f7bac3e6",
   "metadata": {},
   "outputs": [],
   "source": []
  }
 ],
 "metadata": {
  "kernelspec": {
   "display_name": "Python 3 (ipykernel)",
   "language": "python",
   "name": "python3"
  },
  "language_info": {
   "codemirror_mode": {
    "name": "ipython",
    "version": 3
   },
   "file_extension": ".py",
   "mimetype": "text/x-python",
   "name": "python",
   "nbconvert_exporter": "python",
   "pygments_lexer": "ipython3",
   "version": "3.13.0"
  }
 },
 "nbformat": 4,
 "nbformat_minor": 5
}
