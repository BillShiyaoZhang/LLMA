{
 "cells": [
  {
   "cell_type": "markdown",
   "id": "33de5b48",
   "metadata": {},
   "source": [
    "# Result statistics"
   ]
  },
  {
   "cell_type": "code",
   "execution_count": 2,
   "id": "28f65e6d",
   "metadata": {},
   "outputs": [],
   "source": [
    "# !pip install rdflib"
   ]
  },
  {
   "cell_type": "code",
   "execution_count": 7,
   "id": "32faa4eb",
   "metadata": {},
   "outputs": [],
   "source": [
    "import rdflib\n",
    "\n",
    "def load_reference_alignment(file_path, format='xml'):\n",
    "    \"\"\"\n",
    "    Load a reference alignment from a file and return it as an rdflib Graph.\n",
    "    \n",
    "    :param file_path: Path to the file containing the reference alignment.\n",
    "    :return: An rdflib Graph containing the reference alignment.\n",
    "    \"\"\"\n",
    "    graph = rdflib.Graph()\n",
    "    graph.parse(file_path, format=format)\n",
    "    return graph"
   ]
  },
  {
   "cell_type": "code",
   "execution_count": 14,
   "id": "aea78668",
   "metadata": {},
   "outputs": [],
   "source": [
    "dataset_base = \"../src/main/java/DataSet\"\n",
    "dataset = \"Anatomy\"\n",
    "file_path = f\"{dataset_base}/{dataset}/reference.rdf\"\n",
    "graph = load_reference_alignment(file_path, format='xml')"
   ]
  },
  {
   "cell_type": "code",
   "execution_count": null,
   "id": "a213d0c3",
   "metadata": {},
   "outputs": [
    {
     "name": "stdout",
     "output_type": "stream",
     "text": [
      "Number of correspondences: 1516\n"
     ]
    }
   ],
   "source": [
    "def count_correspondences(graph):\n",
    "    \"\"\"\n",
    "    Count the number of correspondences in the reference alignment graph.\n",
    "    \n",
    "    :param graph: An rdflib Graph containing the reference alignment.\n",
    "    :return: The number of correspondences in the graph.\n",
    "    \"\"\"\n",
    "    correspondence_predicate = rdflib.URIRef(\"http://knowledgeweb.semanticweb.org/heterogeneity/alignmentrelation\")\n",
    "    return sum(1 for _ in graph.triples((None, correspondence_predicate, None)))"
   ]
  },
  {
   "cell_type": "code",
   "execution_count": null,
   "id": "ba8b51a7",
   "metadata": {},
   "outputs": [],
   "source": []
  },
  {
   "cell_type": "code",
   "execution_count": null,
   "id": "53e62b3e",
   "metadata": {},
   "outputs": [],
   "source": []
  },
  {
   "cell_type": "code",
   "execution_count": null,
   "id": "2c38daf0",
   "metadata": {},
   "outputs": [],
   "source": []
  },
  {
   "cell_type": "code",
   "execution_count": null,
   "id": "f7d00e3a",
   "metadata": {},
   "outputs": [
    {
     "name": "stdout",
     "output_type": "stream",
     "text": [
      "Number of triples in the graph: 9100\n"
     ]
    }
   ],
   "source": []
  },
  {
   "cell_type": "code",
   "execution_count": null,
   "id": "79d56bfc",
   "metadata": {},
   "outputs": [],
   "source": []
  },
  {
   "cell_type": "code",
   "execution_count": null,
   "id": "12c92af0",
   "metadata": {},
   "outputs": [],
   "source": []
  }
 ],
 "metadata": {
  "kernelspec": {
   "display_name": "llma",
   "language": "python",
   "name": "python3"
  },
  "language_info": {
   "codemirror_mode": {
    "name": "ipython",
    "version": 3
   },
   "file_extension": ".py",
   "mimetype": "text/x-python",
   "name": "python",
   "nbconvert_exporter": "python",
   "pygments_lexer": "ipython3",
   "version": "3.13.5"
  }
 },
 "nbformat": 4,
 "nbformat_minor": 5
}
